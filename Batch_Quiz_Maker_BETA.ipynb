{
 "cells": [
  {
   "cell_type": "code",
   "execution_count": 1,
   "metadata": {},
   "outputs": [],
   "source": [
    "import pandas as pd"
   ]
  },
  {
   "cell_type": "code",
   "execution_count": 2,
   "metadata": {},
   "outputs": [],
   "source": [
    "import regex as re"
   ]
  },
  {
   "cell_type": "code",
   "execution_count": 4,
   "metadata": {},
   "outputs": [],
   "source": [
    "df = pd.read_pickle('QUIZZIZ_QURAN_RARE_WORDS.pkl')"
   ]
  },
  {
   "cell_type": "code",
   "execution_count": 12,
   "metadata": {},
   "outputs": [],
   "source": [
    "def start_end_right(x):\n",
    "    result = re.sub('ـ', '', x)\n",
    "    result = result.strip()\n",
    "    result = f'ـ {result} ـ'\n",
    "    return result"
   ]
  },
  {
   "cell_type": "code",
   "execution_count": 14,
   "metadata": {},
   "outputs": [],
   "source": [
    "df['Question Text'] = df['Question Text'].apply(lambda x: start_end_right(x))"
   ]
  },
  {
   "cell_type": "code",
   "execution_count": 16,
   "metadata": {},
   "outputs": [],
   "source": [
    "#df.to_pickle('QUIZZIZ_QURAN_RARE_WORDS.pkl', protocol=4)"
   ]
  },
  {
   "cell_type": "code",
   "execution_count": 25,
   "metadata": {},
   "outputs": [],
   "source": [
    "exp_quiz_quran = [f\"df.sample(100).drop_duplicates(['Option 1']).head(20).to_excel('QUIZZIZ_{str(i).zfill(2)}.xlsx', encoding='utf-8', index=False)\" for i in range(20,40)]"
   ]
  },
  {
   "cell_type": "code",
   "execution_count": 26,
   "metadata": {},
   "outputs": [
    {
     "name": "stdout",
     "output_type": "stream",
     "text": [
      "df.sample(100).drop_duplicates(['Option 1']).head(20).to_excel('QUIZZIZ_20.xlsx', encoding='utf-8', index=False)\n",
      "df.sample(100).drop_duplicates(['Option 1']).head(20).to_excel('QUIZZIZ_21.xlsx', encoding='utf-8', index=False)\n",
      "df.sample(100).drop_duplicates(['Option 1']).head(20).to_excel('QUIZZIZ_22.xlsx', encoding='utf-8', index=False)\n",
      "df.sample(100).drop_duplicates(['Option 1']).head(20).to_excel('QUIZZIZ_23.xlsx', encoding='utf-8', index=False)\n",
      "df.sample(100).drop_duplicates(['Option 1']).head(20).to_excel('QUIZZIZ_24.xlsx', encoding='utf-8', index=False)\n",
      "df.sample(100).drop_duplicates(['Option 1']).head(20).to_excel('QUIZZIZ_25.xlsx', encoding='utf-8', index=False)\n",
      "df.sample(100).drop_duplicates(['Option 1']).head(20).to_excel('QUIZZIZ_26.xlsx', encoding='utf-8', index=False)\n",
      "df.sample(100).drop_duplicates(['Option 1']).head(20).to_excel('QUIZZIZ_27.xlsx', encoding='utf-8', index=False)\n",
      "df.sample(100).drop_duplicates(['Option 1']).head(20).to_excel('QUIZZIZ_28.xlsx', encoding='utf-8', index=False)\n",
      "df.sample(100).drop_duplicates(['Option 1']).head(20).to_excel('QUIZZIZ_29.xlsx', encoding='utf-8', index=False)\n",
      "df.sample(100).drop_duplicates(['Option 1']).head(20).to_excel('QUIZZIZ_30.xlsx', encoding='utf-8', index=False)\n",
      "df.sample(100).drop_duplicates(['Option 1']).head(20).to_excel('QUIZZIZ_31.xlsx', encoding='utf-8', index=False)\n",
      "df.sample(100).drop_duplicates(['Option 1']).head(20).to_excel('QUIZZIZ_32.xlsx', encoding='utf-8', index=False)\n",
      "df.sample(100).drop_duplicates(['Option 1']).head(20).to_excel('QUIZZIZ_33.xlsx', encoding='utf-8', index=False)\n",
      "df.sample(100).drop_duplicates(['Option 1']).head(20).to_excel('QUIZZIZ_34.xlsx', encoding='utf-8', index=False)\n",
      "df.sample(100).drop_duplicates(['Option 1']).head(20).to_excel('QUIZZIZ_35.xlsx', encoding='utf-8', index=False)\n",
      "df.sample(100).drop_duplicates(['Option 1']).head(20).to_excel('QUIZZIZ_36.xlsx', encoding='utf-8', index=False)\n",
      "df.sample(100).drop_duplicates(['Option 1']).head(20).to_excel('QUIZZIZ_37.xlsx', encoding='utf-8', index=False)\n",
      "df.sample(100).drop_duplicates(['Option 1']).head(20).to_excel('QUIZZIZ_38.xlsx', encoding='utf-8', index=False)\n",
      "df.sample(100).drop_duplicates(['Option 1']).head(20).to_excel('QUIZZIZ_39.xlsx', encoding='utf-8', index=False)\n"
     ]
    }
   ],
   "source": [
    "for i in exp_quiz_quran:\n",
    "    print(i)"
   ]
  },
  {
   "cell_type": "code",
   "execution_count": 27,
   "metadata": {},
   "outputs": [],
   "source": [
    "df.sample(100).drop_duplicates(['Option 1']).head(20).to_excel('QUIZZIZ_20.xlsx', encoding='utf-8', index=False)\n",
    "df.sample(100).drop_duplicates(['Option 1']).head(20).to_excel('QUIZZIZ_21.xlsx', encoding='utf-8', index=False)\n",
    "df.sample(100).drop_duplicates(['Option 1']).head(20).to_excel('QUIZZIZ_22.xlsx', encoding='utf-8', index=False)\n",
    "df.sample(100).drop_duplicates(['Option 1']).head(20).to_excel('QUIZZIZ_23.xlsx', encoding='utf-8', index=False)\n",
    "df.sample(100).drop_duplicates(['Option 1']).head(20).to_excel('QUIZZIZ_24.xlsx', encoding='utf-8', index=False)\n",
    "df.sample(100).drop_duplicates(['Option 1']).head(20).to_excel('QUIZZIZ_25.xlsx', encoding='utf-8', index=False)\n",
    "df.sample(100).drop_duplicates(['Option 1']).head(20).to_excel('QUIZZIZ_26.xlsx', encoding='utf-8', index=False)\n",
    "df.sample(100).drop_duplicates(['Option 1']).head(20).to_excel('QUIZZIZ_27.xlsx', encoding='utf-8', index=False)\n",
    "df.sample(100).drop_duplicates(['Option 1']).head(20).to_excel('QUIZZIZ_28.xlsx', encoding='utf-8', index=False)\n",
    "df.sample(100).drop_duplicates(['Option 1']).head(20).to_excel('QUIZZIZ_29.xlsx', encoding='utf-8', index=False)\n",
    "df.sample(100).drop_duplicates(['Option 1']).head(20).to_excel('QUIZZIZ_30.xlsx', encoding='utf-8', index=False)\n",
    "df.sample(100).drop_duplicates(['Option 1']).head(20).to_excel('QUIZZIZ_31.xlsx', encoding='utf-8', index=False)\n",
    "df.sample(100).drop_duplicates(['Option 1']).head(20).to_excel('QUIZZIZ_32.xlsx', encoding='utf-8', index=False)\n",
    "df.sample(100).drop_duplicates(['Option 1']).head(20).to_excel('QUIZZIZ_33.xlsx', encoding='utf-8', index=False)\n",
    "df.sample(100).drop_duplicates(['Option 1']).head(20).to_excel('QUIZZIZ_34.xlsx', encoding='utf-8', index=False)\n",
    "df.sample(100).drop_duplicates(['Option 1']).head(20).to_excel('QUIZZIZ_35.xlsx', encoding='utf-8', index=False)\n",
    "df.sample(100).drop_duplicates(['Option 1']).head(20).to_excel('QUIZZIZ_36.xlsx', encoding='utf-8', index=False)\n",
    "df.sample(100).drop_duplicates(['Option 1']).head(20).to_excel('QUIZZIZ_37.xlsx', encoding='utf-8', index=False)\n",
    "df.sample(100).drop_duplicates(['Option 1']).head(20).to_excel('QUIZZIZ_38.xlsx', encoding='utf-8', index=False)\n",
    "df.sample(100).drop_duplicates(['Option 1']).head(20).to_excel('QUIZZIZ_39.xlsx', encoding='utf-8', index=False)"
   ]
  },
  {
   "cell_type": "code",
   "execution_count": null,
   "metadata": {},
   "outputs": [],
   "source": []
  }
 ],
 "metadata": {
  "kernelspec": {
   "display_name": "Python 3",
   "language": "python",
   "name": "python3"
  },
  "language_info": {
   "codemirror_mode": {
    "name": "ipython",
    "version": 3
   },
   "file_extension": ".py",
   "mimetype": "text/x-python",
   "name": "python",
   "nbconvert_exporter": "python",
   "pygments_lexer": "ipython3",
   "version": "3.8.7"
  }
 },
 "nbformat": 4,
 "nbformat_minor": 4
}

{
 "cells": [
  {
   "cell_type": "code",
   "execution_count": 1,
   "metadata": {},
   "outputs": [],
   "source": [
    "import pandas as pd"
   ]
  },
  {
   "cell_type": "code",
   "execution_count": 2,
   "metadata": {},
   "outputs": [],
   "source": [
    "import regex as re"
   ]
  },
  {
   "cell_type": "code",
   "execution_count": 3,
   "metadata": {},
   "outputs": [],
   "source": [
    "df01 = pd.read_pickle('QURAN_QUIZZIZ_STAGE_06.pkl')"
   ]
  },
  {
   "cell_type": "code",
   "execution_count": 7,
   "metadata": {},
   "outputs": [],
   "source": [
    "quiz_col = '''\n",
    "Question Text\n",
    "Question Type\n",
    "Option 1\n",
    "Option 2\n",
    "Option 3\n",
    "Option 4\n",
    "Option 5\n",
    "Question Type\n",
    "Time in seconds\n",
    "Image Link\n",
    "'''.strip().split('\\n')"
   ]
  },
  {
   "cell_type": "code",
   "execution_count": 23,
   "metadata": {},
   "outputs": [],
   "source": [
    "df01 = df01[['Question Text', 'Option 1', 'Option 2']]"
   ]
  },
  {
   "cell_type": "code",
   "execution_count": 24,
   "metadata": {},
   "outputs": [],
   "source": [
    "c = [i for i in  quiz_col if i in list(df01.columns)]"
   ]
  },
  {
   "cell_type": "code",
   "execution_count": 75,
   "metadata": {},
   "outputs": [
    {
     "name": "stderr",
     "output_type": "stream",
     "text": [
      "<ipython-input-75-ef6f3ae4d26c>:1: SettingWithCopyWarning: \n",
      "A value is trying to be set on a copy of a slice from a DataFrame.\n",
      "Try using .loc[row_indexer,col_indexer] = value instead\n",
      "\n",
      "See the caveats in the documentation: https://pandas.pydata.org/pandas-docs/stable/user_guide/indexing.html#returning-a-view-versus-a-copy\n",
      "  df01['Option 3'] = ''\n",
      "<ipython-input-75-ef6f3ae4d26c>:2: SettingWithCopyWarning: \n",
      "A value is trying to be set on a copy of a slice from a DataFrame.\n",
      "Try using .loc[row_indexer,col_indexer] = value instead\n",
      "\n",
      "See the caveats in the documentation: https://pandas.pydata.org/pandas-docs/stable/user_guide/indexing.html#returning-a-view-versus-a-copy\n",
      "  df01['Option 4'] = ''\n",
      "<ipython-input-75-ef6f3ae4d26c>:3: SettingWithCopyWarning: \n",
      "A value is trying to be set on a copy of a slice from a DataFrame.\n",
      "Try using .loc[row_indexer,col_indexer] = value instead\n",
      "\n",
      "See the caveats in the documentation: https://pandas.pydata.org/pandas-docs/stable/user_guide/indexing.html#returning-a-view-versus-a-copy\n",
      "  df01['Option 5'] = ''\n",
      "<ipython-input-75-ef6f3ae4d26c>:4: SettingWithCopyWarning: \n",
      "A value is trying to be set on a copy of a slice from a DataFrame.\n",
      "Try using .loc[row_indexer,col_indexer] = value instead\n",
      "\n",
      "See the caveats in the documentation: https://pandas.pydata.org/pandas-docs/stable/user_guide/indexing.html#returning-a-view-versus-a-copy\n",
      "  df01['Option 3'] = ''\n",
      "<ipython-input-75-ef6f3ae4d26c>:5: SettingWithCopyWarning: \n",
      "A value is trying to be set on a copy of a slice from a DataFrame.\n",
      "Try using .loc[row_indexer,col_indexer] = value instead\n",
      "\n",
      "See the caveats in the documentation: https://pandas.pydata.org/pandas-docs/stable/user_guide/indexing.html#returning-a-view-versus-a-copy\n",
      "  df01['Question Type'] = 'Fill-in-the-Blank'\n",
      "<ipython-input-75-ef6f3ae4d26c>:6: SettingWithCopyWarning: \n",
      "A value is trying to be set on a copy of a slice from a DataFrame.\n",
      "Try using .loc[row_indexer,col_indexer] = value instead\n",
      "\n",
      "See the caveats in the documentation: https://pandas.pydata.org/pandas-docs/stable/user_guide/indexing.html#returning-a-view-versus-a-copy\n",
      "  df01['Time in seconds'] = 20\n",
      "<ipython-input-75-ef6f3ae4d26c>:7: SettingWithCopyWarning: \n",
      "A value is trying to be set on a copy of a slice from a DataFrame.\n",
      "Try using .loc[row_indexer,col_indexer] = value instead\n",
      "\n",
      "See the caveats in the documentation: https://pandas.pydata.org/pandas-docs/stable/user_guide/indexing.html#returning-a-view-versus-a-copy\n",
      "  df01['Image Link'] = ''\n"
     ]
    }
   ],
   "source": [
    "df01['Option 3'] = ''\n",
    "df01['Option 4'] = ''\n",
    "df01['Option 5'] = ''\n",
    "df01['Option 3'] = ''\n",
    "df01['Question Type'] = 'Fill-in-the-Blank'\n",
    "df01['Time in seconds'] = 20\n",
    "df01['Image Link'] = ''\n"
   ]
  },
  {
   "cell_type": "code",
   "execution_count": null,
   "metadata": {},
   "outputs": [],
   "source": []
  },
  {
   "cell_type": "code",
   "execution_count": 68,
   "metadata": {},
   "outputs": [],
   "source": [
    "df = df01[['Question Text',\n",
    " 'Question Type',\n",
    " 'Option 1',\n",
    " 'Option 2',\n",
    " 'Option 3',\n",
    " 'Option 4',\n",
    " 'Option 5',\n",
    " 'Time in seconds',\n",
    " 'Image Link']]"
   ]
  },
  {
   "cell_type": "code",
   "execution_count": 69,
   "metadata": {},
   "outputs": [
    {
     "data": {
      "text/plain": [
       "['Question Text',\n",
       " 'Question Type',\n",
       " 'Option 1',\n",
       " 'Option 2',\n",
       " 'Option 3',\n",
       " 'Option 4',\n",
       " 'Option 5',\n",
       " 'Time in seconds',\n",
       " 'Image Link']"
      ]
     },
     "execution_count": 69,
     "metadata": {},
     "output_type": "execute_result"
    }
   ],
   "source": [
    "['Question Text',\n",
    " 'Question Type',\n",
    " 'Option 1',\n",
    " 'Option 2',\n",
    " 'Option 3',\n",
    " 'Option 4',\n",
    " 'Option 5',\n",
    " 'Time in seconds',\n",
    " 'Image Link']"
   ]
  },
  {
   "cell_type": "code",
   "execution_count": 70,
   "metadata": {},
   "outputs": [],
   "source": [
    "df['Option 2'] = df['Option 2'].apply(lambda x: '-' if len(x)<2 else x)"
   ]
  },
  {
   "cell_type": "code",
   "execution_count": 71,
   "metadata": {},
   "outputs": [],
   "source": [
    "df.to_pickle('QUIZZIZ_QURAN_RARE_WORDS.pkl', protocol=4)"
   ]
  },
  {
   "cell_type": "code",
   "execution_count": 72,
   "metadata": {},
   "outputs": [],
   "source": [
    "exp_quiz_quran = [f\"df.sample(100).drop_duplicates(['Option 1']).head(20).to_excel('QUIZZIZ_{str(i).zfill(2)}.xlsx', encoding='utf-8', index=False)\" for i in range(1,20)]"
   ]
  },
  {
   "cell_type": "code",
   "execution_count": 73,
   "metadata": {},
   "outputs": [
    {
     "name": "stdout",
     "output_type": "stream",
     "text": [
      "df.sample(100).drop_duplicates(['Option 1']).head(20).to_excel('QUIZZIZ_01.xlsx', encoding='utf-8', index=False)\n",
      "df.sample(100).drop_duplicates(['Option 1']).head(20).to_excel('QUIZZIZ_02.xlsx', encoding='utf-8', index=False)\n",
      "df.sample(100).drop_duplicates(['Option 1']).head(20).to_excel('QUIZZIZ_03.xlsx', encoding='utf-8', index=False)\n",
      "df.sample(100).drop_duplicates(['Option 1']).head(20).to_excel('QUIZZIZ_04.xlsx', encoding='utf-8', index=False)\n",
      "df.sample(100).drop_duplicates(['Option 1']).head(20).to_excel('QUIZZIZ_05.xlsx', encoding='utf-8', index=False)\n",
      "df.sample(100).drop_duplicates(['Option 1']).head(20).to_excel('QUIZZIZ_06.xlsx', encoding='utf-8', index=False)\n",
      "df.sample(100).drop_duplicates(['Option 1']).head(20).to_excel('QUIZZIZ_07.xlsx', encoding='utf-8', index=False)\n",
      "df.sample(100).drop_duplicates(['Option 1']).head(20).to_excel('QUIZZIZ_08.xlsx', encoding='utf-8', index=False)\n",
      "df.sample(100).drop_duplicates(['Option 1']).head(20).to_excel('QUIZZIZ_09.xlsx', encoding='utf-8', index=False)\n",
      "df.sample(100).drop_duplicates(['Option 1']).head(20).to_excel('QUIZZIZ_10.xlsx', encoding='utf-8', index=False)\n",
      "df.sample(100).drop_duplicates(['Option 1']).head(20).to_excel('QUIZZIZ_11.xlsx', encoding='utf-8', index=False)\n",
      "df.sample(100).drop_duplicates(['Option 1']).head(20).to_excel('QUIZZIZ_12.xlsx', encoding='utf-8', index=False)\n",
      "df.sample(100).drop_duplicates(['Option 1']).head(20).to_excel('QUIZZIZ_13.xlsx', encoding='utf-8', index=False)\n",
      "df.sample(100).drop_duplicates(['Option 1']).head(20).to_excel('QUIZZIZ_14.xlsx', encoding='utf-8', index=False)\n",
      "df.sample(100).drop_duplicates(['Option 1']).head(20).to_excel('QUIZZIZ_15.xlsx', encoding='utf-8', index=False)\n",
      "df.sample(100).drop_duplicates(['Option 1']).head(20).to_excel('QUIZZIZ_16.xlsx', encoding='utf-8', index=False)\n",
      "df.sample(100).drop_duplicates(['Option 1']).head(20).to_excel('QUIZZIZ_17.xlsx', encoding='utf-8', index=False)\n",
      "df.sample(100).drop_duplicates(['Option 1']).head(20).to_excel('QUIZZIZ_18.xlsx', encoding='utf-8', index=False)\n",
      "df.sample(100).drop_duplicates(['Option 1']).head(20).to_excel('QUIZZIZ_19.xlsx', encoding='utf-8', index=False)\n"
     ]
    }
   ],
   "source": [
    "for i in exp_quiz_quran:\n",
    "    print(i)"
   ]
  },
  {
   "cell_type": "code",
   "execution_count": 74,
   "metadata": {},
   "outputs": [],
   "source": [
    "df.sample(100).drop_duplicates(['Option 1']).head(20).to_excel('QUIZZIZ_01.xlsx', encoding='utf-8', index=False)\n",
    "df.sample(100).drop_duplicates(['Option 1']).head(20).to_excel('QUIZZIZ_02.xlsx', encoding='utf-8', index=False)\n",
    "df.sample(100).drop_duplicates(['Option 1']).head(20).to_excel('QUIZZIZ_03.xlsx', encoding='utf-8', index=False)\n",
    "df.sample(100).drop_duplicates(['Option 1']).head(20).to_excel('QUIZZIZ_04.xlsx', encoding='utf-8', index=False)\n",
    "df.sample(100).drop_duplicates(['Option 1']).head(20).to_excel('QUIZZIZ_05.xlsx', encoding='utf-8', index=False)\n",
    "df.sample(100).drop_duplicates(['Option 1']).head(20).to_excel('QUIZZIZ_06.xlsx', encoding='utf-8', index=False)\n",
    "df.sample(100).drop_duplicates(['Option 1']).head(20).to_excel('QUIZZIZ_07.xlsx', encoding='utf-8', index=False)\n",
    "df.sample(100).drop_duplicates(['Option 1']).head(20).to_excel('QUIZZIZ_08.xlsx', encoding='utf-8', index=False)\n",
    "df.sample(100).drop_duplicates(['Option 1']).head(20).to_excel('QUIZZIZ_09.xlsx', encoding='utf-8', index=False)\n",
    "df.sample(100).drop_duplicates(['Option 1']).head(20).to_excel('QUIZZIZ_10.xlsx', encoding='utf-8', index=False)\n",
    "df.sample(100).drop_duplicates(['Option 1']).head(20).to_excel('QUIZZIZ_11.xlsx', encoding='utf-8', index=False)\n",
    "df.sample(100).drop_duplicates(['Option 1']).head(20).to_excel('QUIZZIZ_12.xlsx', encoding='utf-8', index=False)\n",
    "df.sample(100).drop_duplicates(['Option 1']).head(20).to_excel('QUIZZIZ_13.xlsx', encoding='utf-8', index=False)\n",
    "df.sample(100).drop_duplicates(['Option 1']).head(20).to_excel('QUIZZIZ_14.xlsx', encoding='utf-8', index=False)\n",
    "df.sample(100).drop_duplicates(['Option 1']).head(20).to_excel('QUIZZIZ_15.xlsx', encoding='utf-8', index=False)\n",
    "df.sample(100).drop_duplicates(['Option 1']).head(20).to_excel('QUIZZIZ_16.xlsx', encoding='utf-8', index=False)\n",
    "df.sample(100).drop_duplicates(['Option 1']).head(20).to_excel('QUIZZIZ_17.xlsx', encoding='utf-8', index=False)\n",
    "df.sample(100).drop_duplicates(['Option 1']).head(20).to_excel('QUIZZIZ_18.xlsx', encoding='utf-8', index=False)\n",
    "df.sample(100).drop_duplicates(['Option 1']).head(20).to_excel('QUIZZIZ_19.xlsx', encoding='utf-8', index=False)\n"
   ]
  },
  {
   "cell_type": "code",
   "execution_count": 90,
   "metadata": {},
   "outputs": [],
   "source": [
    "test = pd.read_pickle('QUIZZIZ_QURAN_RARE_WORDS.pkl')"
   ]
  },
  {
   "cell_type": "code",
   "execution_count": 91,
   "metadata": {},
   "outputs": [
    {
     "data": {
      "text/html": [
       "<div>\n",
       "<style scoped>\n",
       "    .dataframe tbody tr th:only-of-type {\n",
       "        vertical-align: middle;\n",
       "    }\n",
       "\n",
       "    .dataframe tbody tr th {\n",
       "        vertical-align: top;\n",
       "    }\n",
       "\n",
       "    .dataframe thead th {\n",
       "        text-align: right;\n",
       "    }\n",
       "</style>\n",
       "<table border=\"1\" class=\"dataframe\">\n",
       "  <thead>\n",
       "    <tr style=\"text-align: right;\">\n",
       "      <th></th>\n",
       "      <th>Question Text</th>\n",
       "      <th>Question Type</th>\n",
       "      <th>Option 1</th>\n",
       "      <th>Option 2</th>\n",
       "      <th>Option 3</th>\n",
       "      <th>Option 4</th>\n",
       "      <th>Option 5</th>\n",
       "      <th>Time in seconds</th>\n",
       "      <th>Image Link</th>\n",
       "    </tr>\n",
       "  </thead>\n",
       "  <tbody>\n",
       "    <tr>\n",
       "      <th>0</th>\n",
       "      <td>_ _ _ _ _ _ _  أيقاظا وهم رقود ونقلبهم ذات الي...</td>\n",
       "      <td>Fill-in-the-Blank</td>\n",
       "      <td>وتحسبهم</td>\n",
       "      <td>-</td>\n",
       "      <td></td>\n",
       "      <td></td>\n",
       "      <td></td>\n",
       "      <td>15</td>\n",
       "      <td></td>\n",
       "    </tr>\n",
       "    <tr>\n",
       "      <th>14</th>\n",
       "      <td>_ _ _ _ _ _ _  فأرسلنا عليهم سيل العرم وبدلناه...</td>\n",
       "      <td>Fill-in-the-Blank</td>\n",
       "      <td>فأعرضوا</td>\n",
       "      <td>-</td>\n",
       "      <td></td>\n",
       "      <td></td>\n",
       "      <td></td>\n",
       "      <td>15</td>\n",
       "      <td></td>\n",
       "    </tr>\n",
       "    <tr>\n",
       "      <th>26</th>\n",
       "      <td>_ _ _ _ _ _ _ _  العابدون الحامدون السائحون ال...</td>\n",
       "      <td>Fill-in-the-Blank</td>\n",
       "      <td>التائبون</td>\n",
       "      <td>-</td>\n",
       "      <td></td>\n",
       "      <td></td>\n",
       "      <td></td>\n",
       "      <td>15</td>\n",
       "      <td></td>\n",
       "    </tr>\n",
       "    <tr>\n",
       "      <th>36</th>\n",
       "      <td>_ _ _ _ _ _ _  أينما ثقفوا أخذوا وقتلوا تقتيلا</td>\n",
       "      <td>Fill-in-the-Blank</td>\n",
       "      <td>ملعونين</td>\n",
       "      <td>-</td>\n",
       "      <td></td>\n",
       "      <td></td>\n",
       "      <td></td>\n",
       "      <td>15</td>\n",
       "      <td></td>\n",
       "    </tr>\n",
       "    <tr>\n",
       "      <th>70</th>\n",
       "      <td>_ _ _ _ _ _ _ _  للخبيثين والخبيثون للخبيثات و...</td>\n",
       "      <td>Fill-in-the-Blank</td>\n",
       "      <td>الخبيثات</td>\n",
       "      <td>-</td>\n",
       "      <td></td>\n",
       "      <td></td>\n",
       "      <td></td>\n",
       "      <td>15</td>\n",
       "      <td></td>\n",
       "    </tr>\n",
       "    <tr>\n",
       "      <th>...</th>\n",
       "      <td>...</td>\n",
       "      <td>...</td>\n",
       "      <td>...</td>\n",
       "      <td>...</td>\n",
       "      <td>...</td>\n",
       "      <td>...</td>\n",
       "      <td>...</td>\n",
       "      <td>...</td>\n",
       "      <td>...</td>\n",
       "    </tr>\n",
       "    <tr>\n",
       "      <th>5517</th>\n",
       "      <td>_ _ _ _ _ _  السماء فهي يومئذ واهية</td>\n",
       "      <td>Fill-in-the-Blank</td>\n",
       "      <td>وانشقت</td>\n",
       "      <td>-</td>\n",
       "      <td></td>\n",
       "      <td></td>\n",
       "      <td></td>\n",
       "      <td>15</td>\n",
       "      <td></td>\n",
       "    </tr>\n",
       "    <tr>\n",
       "      <th>5529</th>\n",
       "      <td>_ _ _ _ _ _  الكتاب والحكمة والتوراة والإنجيل</td>\n",
       "      <td>Fill-in-the-Blank</td>\n",
       "      <td>ويعلمه</td>\n",
       "      <td>-</td>\n",
       "      <td></td>\n",
       "      <td></td>\n",
       "      <td></td>\n",
       "      <td>15</td>\n",
       "      <td></td>\n",
       "    </tr>\n",
       "    <tr>\n",
       "      <th>5531</th>\n",
       "      <td>_ _ _ _ _ _ _  فيه ومن يعرض عن ذكر ربه يسلكه ع...</td>\n",
       "      <td>Fill-in-the-Blank</td>\n",
       "      <td>لنفتنهم</td>\n",
       "      <td>-</td>\n",
       "      <td></td>\n",
       "      <td></td>\n",
       "      <td></td>\n",
       "      <td>15</td>\n",
       "      <td></td>\n",
       "    </tr>\n",
       "    <tr>\n",
       "      <th>5535</th>\n",
       "      <td>_ _ _ _  أو انقص منه قليلا</td>\n",
       "      <td>Fill-in-the-Blank</td>\n",
       "      <td>نصفه</td>\n",
       "      <td>-</td>\n",
       "      <td></td>\n",
       "      <td></td>\n",
       "      <td></td>\n",
       "      <td>15</td>\n",
       "      <td></td>\n",
       "    </tr>\n",
       "    <tr>\n",
       "      <th>5539</th>\n",
       "      <td>_ _ _ _ _ _  من السماء ماء مباركا فأنبتنا به ج...</td>\n",
       "      <td>Fill-in-the-Blank</td>\n",
       "      <td>ونزلنا</td>\n",
       "      <td>-</td>\n",
       "      <td></td>\n",
       "      <td></td>\n",
       "      <td></td>\n",
       "      <td>15</td>\n",
       "      <td></td>\n",
       "    </tr>\n",
       "  </tbody>\n",
       "</table>\n",
       "<p>454 rows × 9 columns</p>\n",
       "</div>"
      ],
      "text/plain": [
       "                                          Question Text      Question Type  \\\n",
       "0     _ _ _ _ _ _ _  أيقاظا وهم رقود ونقلبهم ذات الي...  Fill-in-the-Blank   \n",
       "14    _ _ _ _ _ _ _  فأرسلنا عليهم سيل العرم وبدلناه...  Fill-in-the-Blank   \n",
       "26    _ _ _ _ _ _ _ _  العابدون الحامدون السائحون ال...  Fill-in-the-Blank   \n",
       "36       _ _ _ _ _ _ _  أينما ثقفوا أخذوا وقتلوا تقتيلا  Fill-in-the-Blank   \n",
       "70    _ _ _ _ _ _ _ _  للخبيثين والخبيثون للخبيثات و...  Fill-in-the-Blank   \n",
       "...                                                 ...                ...   \n",
       "5517                _ _ _ _ _ _  السماء فهي يومئذ واهية  Fill-in-the-Blank   \n",
       "5529      _ _ _ _ _ _  الكتاب والحكمة والتوراة والإنجيل  Fill-in-the-Blank   \n",
       "5531  _ _ _ _ _ _ _  فيه ومن يعرض عن ذكر ربه يسلكه ع...  Fill-in-the-Blank   \n",
       "5535                         _ _ _ _  أو انقص منه قليلا  Fill-in-the-Blank   \n",
       "5539  _ _ _ _ _ _  من السماء ماء مباركا فأنبتنا به ج...  Fill-in-the-Blank   \n",
       "\n",
       "      Option 1 Option 2 Option 3 Option 4 Option 5  Time in seconds Image Link  \n",
       "0      وتحسبهم        -                                          15             \n",
       "14     فأعرضوا        -                                          15             \n",
       "26    التائبون        -                                          15             \n",
       "36     ملعونين        -                                          15             \n",
       "70    الخبيثات        -                                          15             \n",
       "...        ...      ...      ...      ...      ...              ...        ...  \n",
       "5517    وانشقت        -                                          15             \n",
       "5529    ويعلمه        -                                          15             \n",
       "5531   لنفتنهم        -                                          15             \n",
       "5535      نصفه        -                                          15             \n",
       "5539    ونزلنا        -                                          15             \n",
       "\n",
       "[454 rows x 9 columns]"
      ]
     },
     "execution_count": 91,
     "metadata": {},
     "output_type": "execute_result"
    }
   ],
   "source": [
    "test[test['Question Text'].apply(lambda x: x.startswith('_ '))]"
   ]
  },
  {
   "cell_type": "code",
   "execution_count": 87,
   "metadata": {},
   "outputs": [],
   "source": []
  },
  {
   "cell_type": "code",
   "execution_count": 92,
   "metadata": {},
   "outputs": [
    {
     "data": {
      "text/html": [
       "<div>\n",
       "<style scoped>\n",
       "    .dataframe tbody tr th:only-of-type {\n",
       "        vertical-align: middle;\n",
       "    }\n",
       "\n",
       "    .dataframe tbody tr th {\n",
       "        vertical-align: top;\n",
       "    }\n",
       "\n",
       "    .dataframe thead th {\n",
       "        text-align: right;\n",
       "    }\n",
       "</style>\n",
       "<table border=\"1\" class=\"dataframe\">\n",
       "  <thead>\n",
       "    <tr style=\"text-align: right;\">\n",
       "      <th></th>\n",
       "      <th>Question Text</th>\n",
       "      <th>Question Type</th>\n",
       "      <th>Option 1</th>\n",
       "      <th>Option 2</th>\n",
       "      <th>Option 3</th>\n",
       "      <th>Option 4</th>\n",
       "      <th>Option 5</th>\n",
       "      <th>Time in seconds</th>\n",
       "      <th>Image Link</th>\n",
       "    </tr>\n",
       "  </thead>\n",
       "  <tbody>\n",
       "    <tr>\n",
       "      <th>1612</th>\n",
       "      <td>_ _ _ _ _ _ _  على ذات ألواح ودسر</td>\n",
       "      <td>Fill-in-the-Blank</td>\n",
       "      <td>وحملناه</td>\n",
       "      <td>-</td>\n",
       "      <td></td>\n",
       "      <td></td>\n",
       "      <td></td>\n",
       "      <td>15</td>\n",
       "      <td></td>\n",
       "    </tr>\n",
       "  </tbody>\n",
       "</table>\n",
       "</div>"
      ],
      "text/plain": [
       "                          Question Text      Question Type Option 1 Option 2  \\\n",
       "1612  _ _ _ _ _ _ _  على ذات ألواح ودسر  Fill-in-the-Blank  وحملناه        -   \n",
       "\n",
       "     Option 3 Option 4 Option 5  Time in seconds Image Link  \n",
       "1612                                          15             "
      ]
     },
     "execution_count": 92,
     "metadata": {},
     "output_type": "execute_result"
    }
   ],
   "source": [
    "test[test['Option 1'].apply(lambda x: 'حملناه' in x)]"
   ]
  },
  {
   "cell_type": "code",
   "execution_count": 103,
   "metadata": {},
   "outputs": [],
   "source": [
    "def start_right(x):\n",
    "    if x.startswith('_'):\n",
    "        return f'ـ {x} ـ'\n",
    "    else:\n",
    "        return x"
   ]
  },
  {
   "cell_type": "code",
   "execution_count": 112,
   "metadata": {},
   "outputs": [],
   "source": [
    "def start_end_right(x):\n",
    "    result = f'ـ {x} ـ'"
   ]
  },
  {
   "cell_type": "code",
   "execution_count": 113,
   "metadata": {},
   "outputs": [],
   "source": [
    "test['Question Text_1'] = test['Question Text'].apply(lambda x: start_end_right(x))"
   ]
  },
  {
   "cell_type": "code",
   "execution_count": 114,
   "metadata": {},
   "outputs": [
    {
     "data": {
      "text/plain": [
       "0       None\n",
       "1       None\n",
       "2       None\n",
       "3       None\n",
       "4       None\n",
       "        ... \n",
       "5538    None\n",
       "5539    None\n",
       "5540    None\n",
       "5541    None\n",
       "5542    None\n",
       "Name: Question Text_1, Length: 5543, dtype: object"
      ]
     },
     "execution_count": 114,
     "metadata": {},
     "output_type": "execute_result"
    }
   ],
   "source": [
    "test['Question Text_1']"
   ]
  },
  {
   "cell_type": "code",
   "execution_count": 106,
   "metadata": {},
   "outputs": [],
   "source": [
    "df = pd.read_pickle('QUIZZIZ_QURAN_RARE_WORDS.pkl')"
   ]
  },
  {
   "cell_type": "code",
   "execution_count": 109,
   "metadata": {},
   "outputs": [],
   "source": [
    "df['Question Text'] = df['Question Text'].apply(lambda x: start_right(x))"
   ]
  },
  {
   "cell_type": "code",
   "execution_count": 110,
   "metadata": {},
   "outputs": [],
   "source": [
    "df.to_pickle('QUIZZIZ_QURAN_RARE_WORDS.pkl', protocol=4)"
   ]
  },
  {
   "cell_type": "code",
   "execution_count": null,
   "metadata": {},
   "outputs": [],
   "source": []
  }
 ],
 "metadata": {
  "kernelspec": {
   "display_name": "Python 3",
   "language": "python",
   "name": "python3"
  },
  "language_info": {
   "codemirror_mode": {
    "name": "ipython",
    "version": 3
   },
   "file_extension": ".py",
   "mimetype": "text/x-python",
   "name": "python",
   "nbconvert_exporter": "python",
   "pygments_lexer": "ipython3",
   "version": "3.8.7"
  }
 },
 "nbformat": 4,
 "nbformat_minor": 4
}
